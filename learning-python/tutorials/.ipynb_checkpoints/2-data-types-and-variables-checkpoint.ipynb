{
 "cells": [
  {
   "cell_type": "markdown",
   "metadata": {},
   "source": [
    "# Learning Python"
   ]
  },
  {
   "cell_type": "markdown",
   "metadata": {},
   "source": [
    "## Data types and variables"
   ]
  },
  {
   "cell_type": "markdown",
   "metadata": {},
   "source": [
    "### Basic data types"
   ]
  },
  {
   "cell_type": "markdown",
   "metadata": {},
   "source": [
    "In a programming context, *data* is any piece of information needed in your programme.\n",
    "\n",
    "This *data* can be of different types. We'll start by introducing three data types: `string`, `integer` and `float`."
   ]
  },
  {
   "cell_type": "markdown",
   "metadata": {},
   "source": [
    "**string**\n",
    "\n",
    "We've actually worked with strings in the previous tutorial, when writing your first programme\n",
    "\n",
    "```Python\n",
    "print(\"Hello, world\")\n",
    "```\n",
    "\n",
    "The text passed into the `print()` command is a `string`. \n",
    "\n",
    "When you write code all text bits are called `strings` and are in quotes. In Python you can use either simple quotes ('this is a string') or double quotes (\"this is also a string\")."
   ]
  },
  {
   "cell_type": "markdown",
   "metadata": {},
   "source": [
    "**integer**\n",
    "\n",
    "The information you need in your programme can also be a number. An `integer` is a whole number like `1` or `-40`."
   ]
  },
  {
   "cell_type": "markdown",
   "metadata": {},
   "source": [
    "**float**\n",
    "\n",
    "When a number has a floating point like `3.14`, it is called a `float`."
   ]
  },
  {
   "cell_type": "markdown",
   "metadata": {},
   "source": [
    "### Variables"
   ]
  },
  {
   "cell_type": "markdown",
   "metadata": {},
   "source": [
    "When reusing information throughout a programme it is very useful to store it's value and be able to reference it when needed.\n",
    "\n",
    "For that we use `variables` which is a name that you choose and will work like a label to keep track of a specific piece of information."
   ]
  },
  {
   "cell_type": "markdown",
   "metadata": {},
   "source": [
    "**Define a variable**\n",
    "\n",
    "Say I want to store my first name in a variable (not that I'm going to forget it, it's just as an example).\n",
    "\n",
    "I might choose a variable name like `my_name` and would assign my first name to this variable name I have chosen using the equal \"`=`\" sign like so:\n",
    "\n",
    "```Python\n",
    "my_name = \"Éléonore\"\n",
    "```\n",
    "\n",
    "Here I have **assigned** the value `\"Éléonore\"` to the variable name `my_name`."
   ]
  },
  {
   "cell_type": "markdown",
   "metadata": {},
   "source": [
    "*Note 1*: Naming is hard. Try and find a descriptive name.\n",
    "\n",
    "*Note 2*: In Python, variable names are by convention lowercase and without (`myname`) or with an underscore \"`_`\" sign (`my_name`)"
   ]
  },
  {
   "cell_type": "code",
   "execution_count": null,
   "metadata": {},
   "outputs": [],
   "source": []
  }
 ],
 "metadata": {
  "kernelspec": {
   "display_name": "Python 3",
   "language": "python",
   "name": "python3"
  },
  "language_info": {
   "codemirror_mode": {
    "name": "ipython",
    "version": 3
   },
   "file_extension": ".py",
   "mimetype": "text/x-python",
   "name": "python",
   "nbconvert_exporter": "python",
   "pygments_lexer": "ipython3",
   "version": "3.6.7"
  }
 },
 "nbformat": 4,
 "nbformat_minor": 2
}
