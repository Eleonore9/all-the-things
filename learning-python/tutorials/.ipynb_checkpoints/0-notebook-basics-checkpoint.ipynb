{
 "cells": [
  {
   "cell_type": "markdown",
   "metadata": {},
   "source": [
    "## Getting started"
   ]
  },
  {
   "cell_type": "markdown",
   "metadata": {},
   "source": [
    "### What's a notebook?"
   ]
  },
  {
   "cell_type": "markdown",
   "metadata": {},
   "source": [
    "This is a **Jypyter notebook** (read more [here](https://jupyter.org/))\n",
    "It's an interactive environment where you can write code and execute your code (here, Python code)."
   ]
  },
  {
   "cell_type": "markdown",
   "metadata": {},
   "source": [
    "In a notebook we can create **cells**, and that's where we write code.\n",
    "Once the code is executed or run, the output (when the code run produces an output) is shown below the cell."
   ]
  },
  {
   "cell_type": "markdown",
   "metadata": {},
   "source": [
    "### How to use a Jupyter notebook?"
   ]
  },
  {
   "cell_type": "markdown",
   "metadata": {},
   "source": [
    "**Create a new cell** by clicking on the `+` sign at the top of the notebook.\n",
    "\n",
    "**Run the code** in a cell by clicking on the `Run` button at the top of the notebook or by clicking on `Shift` and `Enter`.\n",
    "\n",
    "**Delete a cell** by cutting it using the `Scissors icon` button at the top of the notebook.\n",
    "\n",
    "**Move a cell** up or down the notebook by usin the `up arrow` or `down arrow` at the top of the notebook."
   ]
  },
  {
   "cell_type": "markdown",
   "metadata": {},
   "source": [
    "### Try it now"
   ]
  },
  {
   "cell_type": "code",
   "execution_count": null,
   "metadata": {},
   "outputs": [],
   "source": [
    "# This is a comment and will not be executed like code\n",
    "# Run this cell by clicking on the `Run` button or `Shift`+`Enter`\n",
    "\n",
    "\"python\""
   ]
  }
 ],
 "metadata": {
  "kernelspec": {
   "display_name": "Python 3",
   "language": "python",
   "name": "python3"
  },
  "language_info": {
   "codemirror_mode": {
    "name": "ipython",
    "version": 3
   },
   "file_extension": ".py",
   "mimetype": "text/x-python",
   "name": "python",
   "nbconvert_exporter": "python",
   "pygments_lexer": "ipython3",
   "version": "3.6.7"
  }
 },
 "nbformat": 4,
 "nbformat_minor": 2
}
