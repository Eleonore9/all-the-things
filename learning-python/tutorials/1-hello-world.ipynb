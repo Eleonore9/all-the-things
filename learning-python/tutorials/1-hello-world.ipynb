{
 "cells": [
  {
   "cell_type": "markdown",
   "metadata": {},
   "source": [
    "# Learning Python"
   ]
  },
  {
   "cell_type": "markdown",
   "metadata": {},
   "source": [
    "## Hello, World!"
   ]
  },
  {
   "cell_type": "markdown",
   "metadata": {},
   "source": [
    "### Why learn Python?"
   ]
  },
  {
   "cell_type": "markdown",
   "metadata": {},
   "source": [
    "The Python programming language is often recommended to beginner coders as:\n",
    "* it is somewhat simple to read and write\n",
    "* it has a wide community (it's easy to get help online or IRL)\n",
    "* it has a wide range of applications: web and software development, scientific research, data science...\n",
    "\n",
    "You can read about the Python programming language at [python.org](https://www.python.org/).\n",
    "\n",
    "*Note*: this tutorial uses Python 3."
   ]
  },
  {
   "cell_type": "markdown",
   "metadata": {},
   "source": [
    "### The `print()` command"
   ]
  },
  {
   "cell_type": "markdown",
   "metadata": {},
   "source": [
    "This first step will get you to write your very first Python programme :)\n",
    "\n",
    "For that all you'll need is to use a command to write out text when it is executed. And this command is `print()`!"
   ]
  },
  {
   "cell_type": "markdown",
   "metadata": {},
   "source": [
    "It is used as follow:\n",
    "\n",
    "**```\n",
    "print( < text to be printed out > )\n",
    "```**"
   ]
  },
  {
   "cell_type": "code",
   "execution_count": null,
   "metadata": {},
   "outputs": [],
   "source": [
    "# Now try it by running this cell\n",
    "\n",
    "print(\"Print this\")"
   ]
  },
  {
   "cell_type": "markdown",
   "metadata": {},
   "source": [
    "*Note*: when you write code, text bits are specified using quotes."
   ]
  },
  {
   "cell_type": "markdown",
   "metadata": {},
   "source": [
    "### Write your first Python programme"
   ]
  },
  {
   "cell_type": "markdown",
   "metadata": {},
   "source": [
    "In any programming language, a first programme is usually to write out \"Hello, world!\".\n",
    "\n",
    "So now, using the example above, write a Python programme that prints out *Hello, world!*."
   ]
  },
  {
   "cell_type": "code",
   "execution_count": null,
   "metadata": {},
   "outputs": [],
   "source": [
    "# Use print() to write out the text \"Hello, world!\" below:\n",
    "\n"
   ]
  }
 ],
 "metadata": {
  "kernelspec": {
   "display_name": "Python 3",
   "language": "python",
   "name": "python3"
  },
  "language_info": {
   "codemirror_mode": {
    "name": "ipython",
    "version": 3
   },
   "file_extension": ".py",
   "mimetype": "text/x-python",
   "name": "python",
   "nbconvert_exporter": "python",
   "pygments_lexer": "ipython3",
   "version": "3.6.7"
  }
 },
 "nbformat": 4,
 "nbformat_minor": 2
}
